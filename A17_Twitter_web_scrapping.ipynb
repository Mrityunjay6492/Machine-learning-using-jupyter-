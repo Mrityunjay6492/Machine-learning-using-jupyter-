{
  "nbformat": 4,
  "nbformat_minor": 0,
  "metadata": {
    "colab": {
      "name": "A17_Twitter_web_scrapping",
      "provenance": []
    },
    "kernelspec": {
      "name": "python3",
      "display_name": "Python 3"
    }
  },
  "cells": [
    {
      "cell_type": "markdown",
      "metadata": {
        "id": "BWiNX3XCu9MM"
      },
      "source": [
        "Sentiment Analysis on twitter data "
      ]
    },
    {
      "cell_type": "code",
      "metadata": {
        "id": "THq9cHMBnV4I"
      },
      "source": [
        "#!pip install TextBlob\n",
        "#!pip install import nltk"
      ],
      "execution_count": 1,
      "outputs": []
    },
    {
      "cell_type": "code",
      "metadata": {
        "id": "Iv3VK3di9fXT"
      },
      "source": [
        "import tweepy as t\n",
        "import pandas as pd\n",
        "import re\n",
        "import nltk\n",
        "from textblob import TextBlob\n",
        "import seaborn as sns \n",
        "from nltk.stem import PorterStemmer\n",
        "import matplotlib.pyplot as plt \n",
        "from nltk.corpus import stopwords"
      ],
      "execution_count": 2,
      "outputs": []
    },
    {
      "cell_type": "code",
      "metadata": {
        "id": "tA949DLeGDpQ"
      },
      "source": [
        "consumer_key='cbaxyUTYgNcsrRBe5D22Jojki'\n",
        "consumer_secret='aljgjl559mf5Fiof57uE7pXGvxhcYw20jI11yEJ1ptBbocVnie'\n",
        "access_token='3179398043-EOKyZrbZVAQBcqDjmscs1CwOYBMpKKVXSITdzuw'\n",
        "access_token_secret='JRot3aW7yIFX7AIqtyQnxmPpP8lg37I8uQxo8SdHIasH4'"
      ],
      "execution_count": 3,
      "outputs": []
    },
    {
      "cell_type": "code",
      "metadata": {
        "id": "GwcBtA3_EqHC"
      },
      "source": [
        "auth= t.OAuthHandler(consumer_key,consumer_secret)\n",
        "auth.set_access_token(access_token,access_token_secret)\n",
        "\n",
        "api=t.API(auth)\n",
        "\n",
        "tweets=[]\n",
        "public_tweets = api.user_timeline(id='@nytimes',count=100, lang=\"en\",tweet_mode=\"extended\")\n",
        "public_tweets\n",
        "for tweet in public_tweets:\n",
        "      tweets.append(tweet.full_text)"
      ],
      "execution_count": 4,
      "outputs": []
    },
    {
      "cell_type": "code",
      "metadata": {
        "id": "LPGbg9ZRa_MH"
      },
      "source": [
        "data=pd.DataFrame(tweets,columns=['tweet'])"
      ],
      "execution_count": 5,
      "outputs": []
    },
    {
      "cell_type": "code",
      "metadata": {
        "colab": {
          "base_uri": "https://localhost:8080/",
          "height": 402
        },
        "id": "hE0dR9ELxCk4",
        "outputId": "b368c085-0bd1-4c6f-ab3e-db3d4d7f735a"
      },
      "source": [
        "data"
      ],
      "execution_count": 6,
      "outputs": [
        {
          "output_type": "execute_result",
          "data": {
            "text/html": [
              "<div>\n",
              "<style scoped>\n",
              "    .dataframe tbody tr th:only-of-type {\n",
              "        vertical-align: middle;\n",
              "    }\n",
              "\n",
              "    .dataframe tbody tr th {\n",
              "        vertical-align: top;\n",
              "    }\n",
              "\n",
              "    .dataframe thead th {\n",
              "        text-align: right;\n",
              "    }\n",
              "</style>\n",
              "<table border=\"1\" class=\"dataframe\">\n",
              "  <thead>\n",
              "    <tr style=\"text-align: right;\">\n",
              "      <th></th>\n",
              "      <th>tweet</th>\n",
              "    </tr>\n",
              "  </thead>\n",
              "  <tbody>\n",
              "    <tr>\n",
              "      <th>0</th>\n",
              "      <td>News Analysis: There's widespread concern that...</td>\n",
              "    </tr>\n",
              "    <tr>\n",
              "      <th>1</th>\n",
              "      <td>A panel of experts advising the CDC is set to ...</td>\n",
              "    </tr>\n",
              "    <tr>\n",
              "      <th>2</th>\n",
              "      <td>RT @onishinyt: Our article: a pedophilia scand...</td>\n",
              "    </tr>\n",
              "    <tr>\n",
              "      <th>3</th>\n",
              "      <td>Pfizer and BioNTech have submitted their final...</td>\n",
              "    </tr>\n",
              "    <tr>\n",
              "      <th>4</th>\n",
              "      <td>Four men arrived at night to dismantle the mys...</td>\n",
              "    </tr>\n",
              "    <tr>\n",
              "      <th>...</th>\n",
              "      <td>...</td>\n",
              "    </tr>\n",
              "    <tr>\n",
              "      <th>95</th>\n",
              "      <td>Don’t feel bad about cutting down a tree for t...</td>\n",
              "    </tr>\n",
              "    <tr>\n",
              "      <th>96</th>\n",
              "      <td>RT @JulietMacur: Maggie Haney, serving an eigh...</td>\n",
              "    </tr>\n",
              "    <tr>\n",
              "      <th>97</th>\n",
              "      <td>RT @tmagazine: T's Holiday issue celebrates th...</td>\n",
              "    </tr>\n",
              "    <tr>\n",
              "      <th>98</th>\n",
              "      <td>The artificial intelligence lab DeepMind built...</td>\n",
              "    </tr>\n",
              "    <tr>\n",
              "      <th>99</th>\n",
              "      <td>Delivery drivers have been essential to feedin...</td>\n",
              "    </tr>\n",
              "  </tbody>\n",
              "</table>\n",
              "<p>100 rows × 1 columns</p>\n",
              "</div>"
            ],
            "text/plain": [
              "                                                tweet\n",
              "0   News Analysis: There's widespread concern that...\n",
              "1   A panel of experts advising the CDC is set to ...\n",
              "2   RT @onishinyt: Our article: a pedophilia scand...\n",
              "3   Pfizer and BioNTech have submitted their final...\n",
              "4   Four men arrived at night to dismantle the mys...\n",
              "..                                                ...\n",
              "95  Don’t feel bad about cutting down a tree for t...\n",
              "96  RT @JulietMacur: Maggie Haney, serving an eigh...\n",
              "97  RT @tmagazine: T's Holiday issue celebrates th...\n",
              "98  The artificial intelligence lab DeepMind built...\n",
              "99  Delivery drivers have been essential to feedin...\n",
              "\n",
              "[100 rows x 1 columns]"
            ]
          },
          "metadata": {
            "tags": []
          },
          "execution_count": 6
        }
      ]
    },
    {
      "cell_type": "code",
      "metadata": {
        "id": "c9AIJqseiAxZ"
      },
      "source": [
        "#data\n",
        "data_clean=[]\n",
        "for t in data['tweet']:\n",
        "  data_clean.append(re.sub(r\"(@[A-Za-z0-9]+)|(#)|(RT[\\s])|(http\\S+)\",'',t))"
      ],
      "execution_count": 7,
      "outputs": []
    },
    {
      "cell_type": "code",
      "metadata": {
        "id": "bPqj2YV1iA02"
      },
      "source": [
        "data['clean']=data_clean"
      ],
      "execution_count": 8,
      "outputs": []
    },
    {
      "cell_type": "code",
      "metadata": {
        "id": "9CfTrF6JrNWX"
      },
      "source": [
        "#lower casing\n",
        "data['clean']=data['clean'].astype(str)\n",
        "data['clean']=data['clean'].apply(lambda x:\" \".join(x.lower() for x in x.split()))"
      ],
      "execution_count": 9,
      "outputs": []
    },
    {
      "cell_type": "code",
      "metadata": {
        "id": "WzgVdbhTy2Jc"
      },
      "source": [
        "data['clean']=data['clean'].str.replace('^\\w\\s','')"
      ],
      "execution_count": 10,
      "outputs": []
    },
    {
      "cell_type": "code",
      "metadata": {
        "id": "DP4Mr37VrkMV"
      },
      "source": [
        "#removing stopwords\n",
        "data['clean']=data['clean'].str.replace('^\\w\\s','')\n",
        "stop=stopwords.words('english')\n",
        "data['clean']=data['clean'].apply(lambda x: \" \".join(x for x in x.split() if x not in stop))"
      ],
      "execution_count": 11,
      "outputs": []
    },
    {
      "cell_type": "code",
      "metadata": {
        "id": "dMIREG9VuYtd"
      },
      "source": [
        "st = PorterStemmer()\n",
        "data['clean'] = data['clean'].apply(lambda x: \" \".join([st.stem(word) for word in x.split()]))"
      ],
      "execution_count": 12,
      "outputs": []
    },
    {
      "cell_type": "code",
      "metadata": {
        "id": "yxdULydTiA7a"
      },
      "source": [
        "data_polarity=[]\n",
        "for i in data['clean']:\n",
        "  data_polarity.append(TextBlob(i).sentiment.polarity)"
      ],
      "execution_count": 13,
      "outputs": []
    },
    {
      "cell_type": "code",
      "metadata": {
        "id": "K4FAl2qHnU9V"
      },
      "source": [
        "data['polarity']=data_polarity"
      ],
      "execution_count": 14,
      "outputs": []
    },
    {
      "cell_type": "code",
      "metadata": {
        "colab": {
          "base_uri": "https://localhost:8080/",
          "height": 570
        },
        "id": "izbl8x2puNsI",
        "outputId": "5672a331-9f84-4f9f-b958-0cf66e208f48"
      },
      "source": [
        "data"
      ],
      "execution_count": 15,
      "outputs": [
        {
          "output_type": "execute_result",
          "data": {
            "text/html": [
              "<div>\n",
              "<style scoped>\n",
              "    .dataframe tbody tr th:only-of-type {\n",
              "        vertical-align: middle;\n",
              "    }\n",
              "\n",
              "    .dataframe tbody tr th {\n",
              "        vertical-align: top;\n",
              "    }\n",
              "\n",
              "    .dataframe thead th {\n",
              "        text-align: right;\n",
              "    }\n",
              "</style>\n",
              "<table border=\"1\" class=\"dataframe\">\n",
              "  <thead>\n",
              "    <tr style=\"text-align: right;\">\n",
              "      <th></th>\n",
              "      <th>tweet</th>\n",
              "      <th>clean</th>\n",
              "      <th>polarity</th>\n",
              "    </tr>\n",
              "  </thead>\n",
              "  <tbody>\n",
              "    <tr>\n",
              "      <th>0</th>\n",
              "      <td>News Analysis: There's widespread concern that...</td>\n",
              "      <td>news analysis: there' widespread concern biden...</td>\n",
              "      <td>-0.166667</td>\n",
              "    </tr>\n",
              "    <tr>\n",
              "      <th>1</th>\n",
              "      <td>A panel of experts advising the CDC is set to ...</td>\n",
              "      <td>panel expert advis cdc set decid american reco...</td>\n",
              "      <td>0.083333</td>\n",
              "    </tr>\n",
              "    <tr>\n",
              "      <th>2</th>\n",
              "      <td>RT @onishinyt: Our article: a pedophilia scand...</td>\n",
              "      <td>: article: pedophilia scandal reveal rot renau...</td>\n",
              "      <td>0.000000</td>\n",
              "    </tr>\n",
              "    <tr>\n",
              "      <th>3</th>\n",
              "      <td>Pfizer and BioNTech have submitted their final...</td>\n",
              "      <td>pfizer biontech submit final applic european h...</td>\n",
              "      <td>0.000000</td>\n",
              "    </tr>\n",
              "    <tr>\n",
              "      <th>4</th>\n",
              "      <td>Four men arrived at night to dismantle the mys...</td>\n",
              "      <td>four men arriv night dismantl mysteri monolith...</td>\n",
              "      <td>0.000000</td>\n",
              "    </tr>\n",
              "    <tr>\n",
              "      <th>...</th>\n",
              "      <td>...</td>\n",
              "      <td>...</td>\n",
              "      <td>...</td>\n",
              "    </tr>\n",
              "    <tr>\n",
              "      <th>95</th>\n",
              "      <td>Don’t feel bad about cutting down a tree for t...</td>\n",
              "      <td>don’t feel bad cut tree holiday. christma tree...</td>\n",
              "      <td>-0.700000</td>\n",
              "    </tr>\n",
              "    <tr>\n",
              "      <th>96</th>\n",
              "      <td>RT @JulietMacur: Maggie Haney, serving an eigh...</td>\n",
              "      <td>: maggi haney, serv eight-year ban mistreat gy...</td>\n",
              "      <td>0.000000</td>\n",
              "    </tr>\n",
              "    <tr>\n",
              "      <th>97</th>\n",
              "      <td>RT @tmagazine: T's Holiday issue celebrates th...</td>\n",
              "      <td>: t' holiday issu celebr three america' belov ...</td>\n",
              "      <td>0.000000</td>\n",
              "    </tr>\n",
              "    <tr>\n",
              "      <th>98</th>\n",
              "      <td>The artificial intelligence lab DeepMind built...</td>\n",
              "      <td>artifici intellig lab deepmind built comput sy...</td>\n",
              "      <td>-0.181818</td>\n",
              "    </tr>\n",
              "    <tr>\n",
              "      <th>99</th>\n",
              "      <td>Delivery drivers have been essential to feedin...</td>\n",
              "      <td>deliveri driver essenti feed new yorker keep s...</td>\n",
              "      <td>0.078788</td>\n",
              "    </tr>\n",
              "  </tbody>\n",
              "</table>\n",
              "<p>100 rows × 3 columns</p>\n",
              "</div>"
            ],
            "text/plain": [
              "                                                tweet  ...  polarity\n",
              "0   News Analysis: There's widespread concern that...  ... -0.166667\n",
              "1   A panel of experts advising the CDC is set to ...  ...  0.083333\n",
              "2   RT @onishinyt: Our article: a pedophilia scand...  ...  0.000000\n",
              "3   Pfizer and BioNTech have submitted their final...  ...  0.000000\n",
              "4   Four men arrived at night to dismantle the mys...  ...  0.000000\n",
              "..                                                ...  ...       ...\n",
              "95  Don’t feel bad about cutting down a tree for t...  ... -0.700000\n",
              "96  RT @JulietMacur: Maggie Haney, serving an eigh...  ...  0.000000\n",
              "97  RT @tmagazine: T's Holiday issue celebrates th...  ...  0.000000\n",
              "98  The artificial intelligence lab DeepMind built...  ... -0.181818\n",
              "99  Delivery drivers have been essential to feedin...  ...  0.078788\n",
              "\n",
              "[100 rows x 3 columns]"
            ]
          },
          "metadata": {
            "tags": []
          },
          "execution_count": 15
        }
      ]
    },
    {
      "cell_type": "code",
      "metadata": {
        "colab": {
          "base_uri": "https://localhost:8080/",
          "height": 353
        },
        "id": "hahv7ezriBF7",
        "outputId": "270f2353-d9f8-46ba-e511-630208a10f21"
      },
      "source": [
        "sns.distplot(data['polarity'])"
      ],
      "execution_count": 16,
      "outputs": [
        {
          "output_type": "stream",
          "text": [
            "/usr/local/lib/python3.6/dist-packages/seaborn/distributions.py:2551: FutureWarning: `distplot` is a deprecated function and will be removed in a future version. Please adapt your code to use either `displot` (a figure-level function with similar flexibility) or `histplot` (an axes-level function for histograms).\n",
            "  warnings.warn(msg, FutureWarning)\n"
          ],
          "name": "stderr"
        },
        {
          "output_type": "execute_result",
          "data": {
            "text/plain": [
              "<matplotlib.axes._subplots.AxesSubplot at 0x7fdec0ce1c50>"
            ]
          },
          "metadata": {
            "tags": []
          },
          "execution_count": 16
        },
        {
          "output_type": "display_data",
          "data": {
            "image/png": "[encoded data removed]",
            "text/plain": [
              "<Figure size 432x288 with 1 Axes>"
            ]
          },
          "metadata": {
            "tags": [],
            "needs_background": "light"
          }
        }
      ]
    },
    {
      "cell_type": "code",
      "metadata": {
        "colab": {
          "base_uri": "https://localhost:8080/",
          "height": 454
        },
        "id": "jS7sP-ZMqH-X",
        "outputId": "6a3628d2-505a-463e-cce0-51a382ef513b"
      },
      "source": [
        "plt.figure(figsize=(15, 10))\n",
        "data=data.reset_index()\n",
        "sns.lineplot(y='polarity',x='index',data=data)"
      ],
      "execution_count": 17,
      "outputs": [
        {
          "output_type": "execute_result",
          "data": {
            "text/plain": [
              "<matplotlib.axes._subplots.AxesSubplot at 0x7fdec0cfe7b8>"
            ]
          },
          "metadata": {
            "tags": []
          },
          "execution_count": 17
        },
        {
          "output_type": "display_data",
          "data": {
            "image/png": "[encoded data removed]",
            "text/plain": [
              "<Figure size 1080x720 with 1 Axes>"
            ]
          },
          "metadata": {
            "tags": [],
            "needs_background": "light"
          }
        }
      ]
    },
    {
      "cell_type": "code",
      "metadata": {
        "id": "iQArAyUcsE2R"
      },
      "source": [
        "A=data['polarity'].copy()\n",
        "A[data.polarity>0]=1\n",
        "A[data.polarity<0]=-1\n",
        "A[data.polarity==0]=0"
      ],
      "execution_count": 18,
      "outputs": []
    },
    {
      "cell_type": "code",
      "metadata": {
        "id": "epM-oVrDsybn"
      },
      "source": [
        "data['sentiment']=A"
      ],
      "execution_count": 19,
      "outputs": []
    },
    {
      "cell_type": "code",
      "metadata": {
        "colab": {
          "base_uri": "https://localhost:8080/",
          "height": 350
        },
        "id": "egvUiztbtACO",
        "outputId": "12c8fde4-f2f6-43f5-efbc-6bc7776f18e6"
      },
      "source": [
        "sns.distplot(data['sentiment'])"
      ],
      "execution_count": 20,
      "outputs": [
        {
          "output_type": "stream",
          "text": [
            "/usr/local/lib/python3.6/dist-packages/seaborn/distributions.py:2551: FutureWarning: `distplot` is a deprecated function and will be removed in a future version. Please adapt your code to use either `displot` (a figure-level function with similar flexibility) or `histplot` (an axes-level function for histograms).\n",
            "  warnings.warn(msg, FutureWarning)\n"
          ],
          "name": "stderr"
        },
        {
          "output_type": "execute_result",
          "data": {
            "text/plain": [
              "<matplotlib.axes._subplots.AxesSubplot at 0x7fdec0d0c748>"
            ]
          },
          "metadata": {
            "tags": []
          },
          "execution_count": 20
        },
        {
          "output_type": "display_data",
          "data": {
            "image/png": "[encoded data removed]",
            "text/plain": [
              "<Figure size 432x288 with 1 Axes>"
            ]
          },
          "metadata": {
            "tags": [],
            "needs_background": "light"
          }
        }
      ]
    }
  ]
}