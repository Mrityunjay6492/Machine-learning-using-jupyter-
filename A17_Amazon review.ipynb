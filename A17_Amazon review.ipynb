{
 "cells": [
  {
   "cell_type": "code",
   "execution_count": 1,
   "metadata": {
    "ExecuteTime": {
     "end_time": "2020-12-01T15:00:19.640749Z",
     "start_time": "2020-12-01T15:00:19.629778Z"
    }
   },
   "outputs": [],
   "source": [
    "#!pip install requests-html\n",
    "#!pip install bs4\n",
    "#!pip install selenium\n",
    "#!pip install textblob"
   ]
  },
  {
   "cell_type": "code",
   "execution_count": 2,
   "metadata": {
    "ExecuteTime": {
     "end_time": "2020-12-01T15:00:22.134080Z",
     "start_time": "2020-12-01T15:00:19.646733Z"
    }
   },
   "outputs": [],
   "source": [
    "import requests\n",
    "from bs4 import BeautifulSoup\n",
    "from selenium import webdriver\n",
    "import pandas as pd\n",
    "from nltk.corpus import stopwords\n",
    "from nltk.stem import PorterStemmer\n",
    "from textblob import TextBlob\n",
    "import seaborn as sns\n",
    "import matplotlib.pyplot as plt\n",
    "reviewlist=[]"
   ]
  },
  {
   "cell_type": "code",
   "execution_count": 3,
   "metadata": {
    "ExecuteTime": {
     "end_time": "2020-12-01T15:00:25.267744Z",
     "start_time": "2020-12-01T15:00:22.136075Z"
    }
   },
   "outputs": [],
   "source": [
    "driver=webdriver.Chrome()\n",
    "#install chrome drive(https://sites.google.com/a/chromium.org/chromedriver/home)"
   ]
  },
  {
   "cell_type": "code",
   "execution_count": 4,
   "metadata": {
    "ExecuteTime": {
     "end_time": "2020-12-01T15:00:25.283702Z",
     "start_time": "2020-12-01T15:00:25.269738Z"
    }
   },
   "outputs": [],
   "source": [
    "def get_reviews(soup):\n",
    "    reviews = soup.find_all('div', {'data-hook': 'review'})\n",
    "    try:\n",
    "        for item in reviews:\n",
    "            review = {\n",
    "            'product': soup.title.text.replace('Amazon.in:Customer reviews:', '').strip(),\n",
    "            'title': item.find('a', {'data-hook': 'review-title'}).text.strip(),\n",
    "            'rating':  float(item.find('i', {'data-hook': 'review-star-rating'}).text.replace('out of 5 stars', '').strip()),\n",
    "            'body': item.find('span', {'data-hook': 'review-body'}).text.strip(),\n",
    "            }\n",
    "            reviewlist.append(review)\n",
    "    except:\n",
    "        pass"
   ]
  },
  {
   "cell_type": "code",
   "execution_count": 5,
   "metadata": {
    "ExecuteTime": {
     "end_time": "2020-12-01T15:00:37.584115Z",
     "start_time": "2020-12-01T15:00:25.285696Z"
    }
   },
   "outputs": [],
   "source": [
    "for i in range(1,10):\n",
    "    url='https://www.amazon.in/Samsung-Galaxy-Raven-Black-Storage/product-reviews/B07HGH8D2R/ref=cm_cr_arp_d_paging_btm_prev_8?ie=UTF8&reviewerType=all_reviews&pageNumber={}'.format(i)\n",
    "    driver.get(url)\n",
    "    soup=BeautifulSoup(driver.page_source,'html.parser')\n",
    "    get_reviews(soup)\n",
    "    if not soup.find('li', {'class': 'a-disabled a-last'}):\n",
    "        pass\n",
    "    else:\n",
    "        break"
   ]
  },
  {
   "cell_type": "code",
   "execution_count": 6,
   "metadata": {
    "ExecuteTime": {
     "end_time": "2020-12-01T15:00:37.599075Z",
     "start_time": "2020-12-01T15:00:37.587107Z"
    }
   },
   "outputs": [],
   "source": [
    "data=pd.DataFrame(reviewlist)"
   ]
  },
  {
   "cell_type": "code",
   "execution_count": 7,
   "metadata": {
    "ExecuteTime": {
     "end_time": "2020-12-01T15:00:37.645949Z",
     "start_time": "2020-12-01T15:00:37.606057Z"
    }
   },
   "outputs": [
    {
     "data": {
      "text/html": [
       "<div>\n",
       "<style scoped>\n",
       "    .dataframe tbody tr th:only-of-type {\n",
       "        vertical-align: middle;\n",
       "    }\n",
       "\n",
       "    .dataframe tbody tr th {\n",
       "        vertical-align: top;\n",
       "    }\n",
       "\n",
       "    .dataframe thead th {\n",
       "        text-align: right;\n",
       "    }\n",
       "</style>\n",
       "<table border=\"1\" class=\"dataframe\">\n",
       "  <thead>\n",
       "    <tr style=\"text-align: right;\">\n",
       "      <th></th>\n",
       "      <th>product</th>\n",
       "      <th>title</th>\n",
       "      <th>rating</th>\n",
       "      <th>body</th>\n",
       "    </tr>\n",
       "  </thead>\n",
       "  <tbody>\n",
       "    <tr>\n",
       "      <th>0</th>\n",
       "      <td>Samsung Galaxy M21 (Raven Black, 4GB RAM, 64GB...</td>\n",
       "      <td>Value For Money !! Go for it</td>\n",
       "      <td>4.0</td>\n",
       "      <td>Update (15/08/2020):Never give a chance to reg...</td>\n",
       "    </tr>\n",
       "    <tr>\n",
       "      <th>1</th>\n",
       "      <td>Samsung Galaxy M21 (Raven Black, 4GB RAM, 64GB...</td>\n",
       "      <td>❤️❤️❤️❤️</td>\n",
       "      <td>5.0</td>\n",
       "      <td>As a title it is obviously a monsterAnd very v...</td>\n",
       "    </tr>\n",
       "    <tr>\n",
       "      <th>2</th>\n",
       "      <td>Samsung Galaxy M21 (Raven Black, 4GB RAM, 64GB...</td>\n",
       "      <td>Best Budget Phone In India</td>\n",
       "      <td>5.0</td>\n",
       "      <td>Brilliant camera, huge battery life and brilli...</td>\n",
       "    </tr>\n",
       "    <tr>\n",
       "      <th>3</th>\n",
       "      <td>Samsung Galaxy M21 (Raven Black, 4GB RAM, 64GB...</td>\n",
       "      <td>Feeling cheated</td>\n",
       "      <td>1.0</td>\n",
       "      <td>Defective product received, it gets 8 to 12 ho...</td>\n",
       "    </tr>\n",
       "    <tr>\n",
       "      <th>4</th>\n",
       "      <td>Samsung Galaxy M21 (Raven Black, 4GB RAM, 64GB...</td>\n",
       "      <td>Battery life is not upto mark</td>\n",
       "      <td>3.0</td>\n",
       "      <td>I am writing my review after using it for 6 da...</td>\n",
       "    </tr>\n",
       "    <tr>\n",
       "      <th>...</th>\n",
       "      <td>...</td>\n",
       "      <td>...</td>\n",
       "      <td>...</td>\n",
       "      <td>...</td>\n",
       "    </tr>\n",
       "    <tr>\n",
       "      <th>85</th>\n",
       "      <td>Samsung Galaxy M21 (Raven Black, 4GB RAM, 64GB...</td>\n",
       "      <td>Value for money with bad camera</td>\n",
       "      <td>3.0</td>\n",
       "      <td>Your browser does not support HTML5 video.\\n\\n...</td>\n",
       "    </tr>\n",
       "    <tr>\n",
       "      <th>86</th>\n",
       "      <td>Samsung Galaxy M21 (Raven Black, 4GB RAM, 64GB...</td>\n",
       "      <td>BEST MID RANGE SMARTPHONE ON THE PLANET EARTH</td>\n",
       "      <td>5.0</td>\n",
       "      <td>For those who are still using old Galaxy phone...</td>\n",
       "    </tr>\n",
       "    <tr>\n",
       "      <th>87</th>\n",
       "      <td>Samsung Galaxy M21 (Raven Black, 4GB RAM, 64GB...</td>\n",
       "      <td>Worst product from Samsung.. don't buy m21</td>\n",
       "      <td>3.0</td>\n",
       "      <td>I got Samsung M21 in 13999/-  Comparing to thi...</td>\n",
       "    </tr>\n",
       "    <tr>\n",
       "      <th>88</th>\n",
       "      <td>Samsung Galaxy M21 (Raven Black, 4GB RAM, 64GB...</td>\n",
       "      <td>\"NETWORK RELATED MAJOR ISSUE\"</td>\n",
       "      <td>1.0</td>\n",
       "      <td>19 July 2020, 1:45AM : This product has some \"...</td>\n",
       "    </tr>\n",
       "    <tr>\n",
       "      <th>89</th>\n",
       "      <td>Samsung Galaxy M21 (Raven Black, 4GB RAM, 64GB...</td>\n",
       "      <td>Good product, very bad service.</td>\n",
       "      <td>3.0</td>\n",
       "      <td>I order this mobile from amazon..first 1month ...</td>\n",
       "    </tr>\n",
       "  </tbody>\n",
       "</table>\n",
       "<p>90 rows × 4 columns</p>\n",
       "</div>"
      ],
      "text/plain": [
       "                                              product  \\\n",
       "0   Samsung Galaxy M21 (Raven Black, 4GB RAM, 64GB...   \n",
       "1   Samsung Galaxy M21 (Raven Black, 4GB RAM, 64GB...   \n",
       "2   Samsung Galaxy M21 (Raven Black, 4GB RAM, 64GB...   \n",
       "3   Samsung Galaxy M21 (Raven Black, 4GB RAM, 64GB...   \n",
       "4   Samsung Galaxy M21 (Raven Black, 4GB RAM, 64GB...   \n",
       "..                                                ...   \n",
       "85  Samsung Galaxy M21 (Raven Black, 4GB RAM, 64GB...   \n",
       "86  Samsung Galaxy M21 (Raven Black, 4GB RAM, 64GB...   \n",
       "87  Samsung Galaxy M21 (Raven Black, 4GB RAM, 64GB...   \n",
       "88  Samsung Galaxy M21 (Raven Black, 4GB RAM, 64GB...   \n",
       "89  Samsung Galaxy M21 (Raven Black, 4GB RAM, 64GB...   \n",
       "\n",
       "                                            title  rating  \\\n",
       "0                    Value For Money !! Go for it     4.0   \n",
       "1                                        ❤️❤️❤️❤️     5.0   \n",
       "2                      Best Budget Phone In India     5.0   \n",
       "3                                 Feeling cheated     1.0   \n",
       "4                   Battery life is not upto mark     3.0   \n",
       "..                                            ...     ...   \n",
       "85                Value for money with bad camera     3.0   \n",
       "86  BEST MID RANGE SMARTPHONE ON THE PLANET EARTH     5.0   \n",
       "87     Worst product from Samsung.. don't buy m21     3.0   \n",
       "88                  \"NETWORK RELATED MAJOR ISSUE\"     1.0   \n",
       "89                Good product, very bad service.     3.0   \n",
       "\n",
       "                                                 body  \n",
       "0   Update (15/08/2020):Never give a chance to reg...  \n",
       "1   As a title it is obviously a monsterAnd very v...  \n",
       "2   Brilliant camera, huge battery life and brilli...  \n",
       "3   Defective product received, it gets 8 to 12 ho...  \n",
       "4   I am writing my review after using it for 6 da...  \n",
       "..                                                ...  \n",
       "85  Your browser does not support HTML5 video.\\n\\n...  \n",
       "86  For those who are still using old Galaxy phone...  \n",
       "87  I got Samsung M21 in 13999/-  Comparing to thi...  \n",
       "88  19 July 2020, 1:45AM : This product has some \"...  \n",
       "89  I order this mobile from amazon..first 1month ...  \n",
       "\n",
       "[90 rows x 4 columns]"
      ]
     },
     "execution_count": 7,
     "metadata": {},
     "output_type": "execute_result"
    }
   ],
   "source": [
    "data"
   ]
  },
  {
   "cell_type": "code",
   "execution_count": 8,
   "metadata": {
    "ExecuteTime": {
     "end_time": "2020-12-01T15:00:37.661911Z",
     "start_time": "2020-12-01T15:00:37.649940Z"
    }
   },
   "outputs": [],
   "source": [
    "#lower casing\n",
    "data['body']=data['body'].astype(str)\n",
    "data['body']=data['body'].apply(lambda x:\" \".join(x.lower() for x in x.split()))"
   ]
  },
  {
   "cell_type": "code",
   "execution_count": 9,
   "metadata": {
    "ExecuteTime": {
     "end_time": "2020-12-01T15:00:37.677864Z",
     "start_time": "2020-12-01T15:00:37.664900Z"
    }
   },
   "outputs": [],
   "source": [
    "# removing special characters\n",
    "data['body']=data['body'].str.replace('^\\w\\s','')"
   ]
  },
  {
   "cell_type": "code",
   "execution_count": 10,
   "metadata": {
    "ExecuteTime": {
     "end_time": "2020-12-01T15:00:37.741694Z",
     "start_time": "2020-12-01T15:00:37.681854Z"
    }
   },
   "outputs": [],
   "source": [
    "#removing stopwords\n",
    "stop=stopwords.words('english')\n",
    "data['body']=data['body'].apply(lambda x: \" \".join(x for x in x.split() if x not in stop))"
   ]
  },
  {
   "cell_type": "code",
   "execution_count": 11,
   "metadata": {
    "ExecuteTime": {
     "end_time": "2020-12-01T15:00:37.947144Z",
     "start_time": "2020-12-01T15:00:37.744688Z"
    }
   },
   "outputs": [],
   "source": [
    "#applying lemmatization\n",
    "st = PorterStemmer()\n",
    "data['body'] = data['body'].apply(lambda x: \" \".join([st.stem(word) for word in x.split()]))"
   ]
  },
  {
   "cell_type": "code",
   "execution_count": 12,
   "metadata": {
    "ExecuteTime": {
     "end_time": "2020-12-01T15:00:38.117688Z",
     "start_time": "2020-12-01T15:00:37.949140Z"
    }
   },
   "outputs": [],
   "source": [
    "def sentiment(x):\n",
    "    return TextBlob(x).sentiment.polarity\n",
    "\n",
    "data['polarity']=data['body'].apply(sentiment)"
   ]
  },
  {
   "cell_type": "code",
   "execution_count": 13,
   "metadata": {
    "ExecuteTime": {
     "end_time": "2020-12-01T15:00:38.163566Z",
     "start_time": "2020-12-01T15:00:38.121679Z"
    }
   },
   "outputs": [
    {
     "data": {
      "text/html": [
       "<div>\n",
       "<style scoped>\n",
       "    .dataframe tbody tr th:only-of-type {\n",
       "        vertical-align: middle;\n",
       "    }\n",
       "\n",
       "    .dataframe tbody tr th {\n",
       "        vertical-align: top;\n",
       "    }\n",
       "\n",
       "    .dataframe thead th {\n",
       "        text-align: right;\n",
       "    }\n",
       "</style>\n",
       "<table border=\"1\" class=\"dataframe\">\n",
       "  <thead>\n",
       "    <tr style=\"text-align: right;\">\n",
       "      <th></th>\n",
       "      <th>product</th>\n",
       "      <th>title</th>\n",
       "      <th>rating</th>\n",
       "      <th>body</th>\n",
       "      <th>polarity</th>\n",
       "    </tr>\n",
       "  </thead>\n",
       "  <tbody>\n",
       "    <tr>\n",
       "      <th>0</th>\n",
       "      <td>Samsung Galaxy M21 (Raven Black, 4GB RAM, 64GB...</td>\n",
       "      <td>Value For Money !! Go for it</td>\n",
       "      <td>4.0</td>\n",
       "      <td>updat (15/08/2020):never give chanc regret.. g...</td>\n",
       "      <td>0.285606</td>\n",
       "    </tr>\n",
       "    <tr>\n",
       "      <th>1</th>\n",
       "      <td>Samsung Galaxy M21 (Raven Black, 4GB RAM, 64GB...</td>\n",
       "      <td>❤️❤️❤️❤️</td>\n",
       "      <td>5.0</td>\n",
       "      <td>titl obvious monsterand good perform</td>\n",
       "      <td>0.350000</td>\n",
       "    </tr>\n",
       "    <tr>\n",
       "      <th>2</th>\n",
       "      <td>Samsung Galaxy M21 (Raven Black, 4GB RAM, 64GB...</td>\n",
       "      <td>Best Budget Phone In India</td>\n",
       "      <td>5.0</td>\n",
       "      <td>brilliant camera, huge batteri life brilliant ...</td>\n",
       "      <td>0.518750</td>\n",
       "    </tr>\n",
       "    <tr>\n",
       "      <th>3</th>\n",
       "      <td>Samsung Galaxy M21 (Raven Black, 4GB RAM, 64GB...</td>\n",
       "      <td>Feeling cheated</td>\n",
       "      <td>1.0</td>\n",
       "      <td>defect product received, get 8 12 hour charg a...</td>\n",
       "      <td>0.000000</td>\n",
       "    </tr>\n",
       "    <tr>\n",
       "      <th>4</th>\n",
       "      <td>Samsung Galaxy M21 (Raven Black, 4GB RAM, 64GB...</td>\n",
       "      <td>Battery life is not upto mark</td>\n",
       "      <td>3.0</td>\n",
       "      <td>write review use 6 days.i bought sumsung phone...</td>\n",
       "      <td>0.196875</td>\n",
       "    </tr>\n",
       "    <tr>\n",
       "      <th>...</th>\n",
       "      <td>...</td>\n",
       "      <td>...</td>\n",
       "      <td>...</td>\n",
       "      <td>...</td>\n",
       "      <td>...</td>\n",
       "    </tr>\n",
       "    <tr>\n",
       "      <th>85</th>\n",
       "      <td>Samsung Galaxy M21 (Raven Black, 4GB RAM, 64GB...</td>\n",
       "      <td>Value for money with bad camera</td>\n",
       "      <td>3.0</td>\n",
       "      <td>browser support html5 video. cours batteri dis...</td>\n",
       "      <td>0.138095</td>\n",
       "    </tr>\n",
       "    <tr>\n",
       "      <th>86</th>\n",
       "      <td>Samsung Galaxy M21 (Raven Black, 4GB RAM, 64GB...</td>\n",
       "      <td>BEST MID RANGE SMARTPHONE ON THE PLANET EARTH</td>\n",
       "      <td>5.0</td>\n",
       "      <td>still use old galaxi phone like galaxi j2, thi...</td>\n",
       "      <td>0.158041</td>\n",
       "    </tr>\n",
       "    <tr>\n",
       "      <th>87</th>\n",
       "      <td>Samsung Galaxy M21 (Raven Black, 4GB RAM, 64GB...</td>\n",
       "      <td>Worst product from Samsung.. don't buy m21</td>\n",
       "      <td>3.0</td>\n",
       "      <td>got samsung m21 13999/- compar price rangepros...</td>\n",
       "      <td>0.163333</td>\n",
       "    </tr>\n",
       "    <tr>\n",
       "      <th>88</th>\n",
       "      <td>Samsung Galaxy M21 (Raven Black, 4GB RAM, 64GB...</td>\n",
       "      <td>\"NETWORK RELATED MAJOR ISSUE\"</td>\n",
       "      <td>1.0</td>\n",
       "      <td>19 juli 2020, 1:45am : product \"major network ...</td>\n",
       "      <td>0.253125</td>\n",
       "    </tr>\n",
       "    <tr>\n",
       "      <th>89</th>\n",
       "      <td>Samsung Galaxy M21 (Raven Black, 4GB RAM, 64GB...</td>\n",
       "      <td>Good product, very bad service.</td>\n",
       "      <td>3.0</td>\n",
       "      <td>order mobil amazon..first 1month experi great....</td>\n",
       "      <td>0.000000</td>\n",
       "    </tr>\n",
       "  </tbody>\n",
       "</table>\n",
       "<p>90 rows × 5 columns</p>\n",
       "</div>"
      ],
      "text/plain": [
       "                                              product  \\\n",
       "0   Samsung Galaxy M21 (Raven Black, 4GB RAM, 64GB...   \n",
       "1   Samsung Galaxy M21 (Raven Black, 4GB RAM, 64GB...   \n",
       "2   Samsung Galaxy M21 (Raven Black, 4GB RAM, 64GB...   \n",
       "3   Samsung Galaxy M21 (Raven Black, 4GB RAM, 64GB...   \n",
       "4   Samsung Galaxy M21 (Raven Black, 4GB RAM, 64GB...   \n",
       "..                                                ...   \n",
       "85  Samsung Galaxy M21 (Raven Black, 4GB RAM, 64GB...   \n",
       "86  Samsung Galaxy M21 (Raven Black, 4GB RAM, 64GB...   \n",
       "87  Samsung Galaxy M21 (Raven Black, 4GB RAM, 64GB...   \n",
       "88  Samsung Galaxy M21 (Raven Black, 4GB RAM, 64GB...   \n",
       "89  Samsung Galaxy M21 (Raven Black, 4GB RAM, 64GB...   \n",
       "\n",
       "                                            title  rating  \\\n",
       "0                    Value For Money !! Go for it     4.0   \n",
       "1                                        ❤️❤️❤️❤️     5.0   \n",
       "2                      Best Budget Phone In India     5.0   \n",
       "3                                 Feeling cheated     1.0   \n",
       "4                   Battery life is not upto mark     3.0   \n",
       "..                                            ...     ...   \n",
       "85                Value for money with bad camera     3.0   \n",
       "86  BEST MID RANGE SMARTPHONE ON THE PLANET EARTH     5.0   \n",
       "87     Worst product from Samsung.. don't buy m21     3.0   \n",
       "88                  \"NETWORK RELATED MAJOR ISSUE\"     1.0   \n",
       "89                Good product, very bad service.     3.0   \n",
       "\n",
       "                                                 body  polarity  \n",
       "0   updat (15/08/2020):never give chanc regret.. g...  0.285606  \n",
       "1                titl obvious monsterand good perform  0.350000  \n",
       "2   brilliant camera, huge batteri life brilliant ...  0.518750  \n",
       "3   defect product received, get 8 12 hour charg a...  0.000000  \n",
       "4   write review use 6 days.i bought sumsung phone...  0.196875  \n",
       "..                                                ...       ...  \n",
       "85  browser support html5 video. cours batteri dis...  0.138095  \n",
       "86  still use old galaxi phone like galaxi j2, thi...  0.158041  \n",
       "87  got samsung m21 13999/- compar price rangepros...  0.163333  \n",
       "88  19 juli 2020, 1:45am : product \"major network ...  0.253125  \n",
       "89  order mobil amazon..first 1month experi great....  0.000000  \n",
       "\n",
       "[90 rows x 5 columns]"
      ]
     },
     "execution_count": 13,
     "metadata": {},
     "output_type": "execute_result"
    }
   ],
   "source": [
    "data"
   ]
  },
  {
   "cell_type": "code",
   "execution_count": 14,
   "metadata": {
    "ExecuteTime": {
     "end_time": "2020-12-01T15:00:38.436835Z",
     "start_time": "2020-12-01T15:00:38.165561Z"
    }
   },
   "outputs": [
    {
     "data": {
      "text/plain": [
       "<matplotlib.axes._subplots.AxesSubplot at 0x1ce023273d0>"
      ]
     },
     "execution_count": 14,
     "metadata": {},
     "output_type": "execute_result"
    },
    {
     "data": {
      "image/png": "[encoded data removed]",
      "text/plain": [
       "<Figure size 432x288 with 1 Axes>"
      ]
     },
     "metadata": {
      "needs_background": "light"
     },
     "output_type": "display_data"
    }
   ],
   "source": [
    "sns.distplot(data['polarity'])"
   ]
  },
  {
   "cell_type": "code",
   "execution_count": 15,
   "metadata": {
    "ExecuteTime": {
     "end_time": "2020-12-01T15:00:38.789890Z",
     "start_time": "2020-12-01T15:00:38.439827Z"
    }
   },
   "outputs": [
    {
     "data": {
      "text/plain": [
       "<matplotlib.axes._subplots.AxesSubplot at 0x1ce02327b50>"
      ]
     },
     "execution_count": 15,
     "metadata": {},
     "output_type": "execute_result"
    },
    {
     "data": {
      "image/png": "[encoded data removed]",
      "text/plain": [
       "<Figure size 1080x720 with 1 Axes>"
      ]
     },
     "metadata": {
      "needs_background": "light"
     },
     "output_type": "display_data"
    }
   ],
   "source": [
    "plt.figure(figsize=(15, 10))\n",
    "data=data.reset_index()\n",
    "sns.lineplot(y='polarity',x='index',data=data)"
   ]
  },
  {
   "cell_type": "code",
   "execution_count": 16,
   "metadata": {
    "ExecuteTime": {
     "end_time": "2020-12-01T15:00:38.816818Z",
     "start_time": "2020-12-01T15:00:38.792882Z"
    }
   },
   "outputs": [],
   "source": [
    "A=data['polarity'].copy()\n",
    "A[data.polarity>0]=1\n",
    "A[data.polarity<0]=-1\n",
    "A[data.polarity==0]=0"
   ]
  },
  {
   "cell_type": "code",
   "execution_count": 17,
   "metadata": {
    "ExecuteTime": {
     "end_time": "2020-12-01T15:00:38.831778Z",
     "start_time": "2020-12-01T15:00:38.819810Z"
    }
   },
   "outputs": [],
   "source": [
    "data['sentiment']=A"
   ]
  },
  {
   "cell_type": "code",
   "execution_count": 18,
   "metadata": {
    "ExecuteTime": {
     "end_time": "2020-12-01T15:00:39.063160Z",
     "start_time": "2020-12-01T15:00:38.834771Z"
    }
   },
   "outputs": [
    {
     "data": {
      "text/plain": [
       "<matplotlib.axes._subplots.AxesSubplot at 0x1ce01630250>"
      ]
     },
     "execution_count": 18,
     "metadata": {},
     "output_type": "execute_result"
    },
    {
     "data": {
      "image/png": "[encoded data removed]",
      "text/plain": [
       "<Figure size 432x288 with 1 Axes>"
      ]
     },
     "metadata": {
      "needs_background": "light"
     },
     "output_type": "display_data"
    }
   ],
   "source": [
    "sns.distplot(data['sentiment'])"
   ]
  }
 ],
 "metadata": {
  "kernelspec": {
   "display_name": "Python 3",
   "language": "python",
   "name": "python3"
  },
  "language_info": {
   "codemirror_mode": {
    "name": "ipython",
    "version": 3
   },
   "file_extension": ".py",
   "mimetype": "text/x-python",
   "name": "python",
   "nbconvert_exporter": "python",
   "pygments_lexer": "ipython3",
   "version": "3.8.3"
  },
  "latex_envs": {
   "LaTeX_envs_menu_present": true,
   "autoclose": false,
   "autocomplete": true,
   "bibliofile": "biblio.bib",
   "cite_by": "apalike",
   "current_citInitial": 1,
   "eqLabelWithNumbers": true,
   "eqNumInitial": 1,
   "hotkeys": {
    "equation": "Ctrl-E",
    "itemize": "Ctrl-I"
   },
   "labels_anchors": false,
   "latex_user_defs": false,
   "report_style_numbering": false,
   "user_envs_cfg": false
  },
  "varInspector": {
   "cols": {
    "lenName": 16,
    "lenType": 16,
    "lenVar": 40
   },
   "kernels_config": {
    "python": {
     "delete_cmd_postfix": "",
     "delete_cmd_prefix": "del ",
     "library": "var_list.py",
     "varRefreshCmd": "print(var_dic_list())"
    },
    "r": {
     "delete_cmd_postfix": ") ",
     "delete_cmd_prefix": "rm(",
     "library": "var_list.r",
     "varRefreshCmd": "cat(var_dic_list()) "
    }
   },
   "types_to_exclude": [
    "module",
    "function",
    "builtin_function_or_method",
    "instance",
    "_Feature"
   ],
   "window_display": false
  }
 },
 "nbformat": 4,
 "nbformat_minor": 4
}
